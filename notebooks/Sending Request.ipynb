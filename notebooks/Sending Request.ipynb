{
 "cells": [
  {
   "cell_type": "code",
   "execution_count": 99,
   "id": "3c9f2277",
   "metadata": {},
   "outputs": [],
   "source": [
    "import pandas as pd"
   ]
  },
  {
   "cell_type": "code",
   "execution_count": 103,
   "id": "ede005ae",
   "metadata": {},
   "outputs": [
    {
     "name": "stdout",
     "output_type": "stream",
     "text": [
      "[31.0, 18.1636472, 0.0, 157.4, 0.03125, 45.0, 123.0, 702.01, 0.0, 0.0, 53.0, 2.08, 3.0, 6.0, 0.0, 5.0, 224.0, 95.0, 22.8, 0.0, 40.0, 7.0, 130.0, 36.7, 0.0, 8.4, 72.0, 39.0, 72.0, 39.0, 95.0, 75.0, 78.0, 58.0, 78.0, 58.0, 26.0, 8.0, 100.0, 99.0, 114.0, 87.0, 114.0, 87.0, 36.7, 36.6, 72.0, 70.0, 72.0, 70.0, 95.0, 88.0, 78.0, 76.0, 78.0, 76.0, 16.0, 13.0, 100.0, 100.0, 99.0, 96.0, 99.0, 96.0, 36.6, 36.6, 53.0, 48.0, 8.8, 8.4, 2.08, 1.87, 352.0, 82.0, 18.0, 17.0, 7.9, 7.9, 22.8, 22.8, 318.0, 318.0, 3.9, 3.8, 134.0, 130.0, 8.4, 8.4, 0.02, 0.01, 0.0, 0.0, 1.0, 0.0, 0.0, 0.0, 0.0, 0.0, 0.0, 0.0, 0.0, 1.0, 0.0, 0.0, 1.0, 0.0, 0.0, 1.0, 0.0, 0.0, 0.0, 0.0, 0.0, 0.0, 0.0, 0.0, 0.0, 0.0, 0.0, 1.0, 0.0, 0.0, 0.0, 0.0, 0.0, 0.0, 0.0, 0.0, 0.0]\n"
     ]
    }
   ],
   "source": [
    "print(pd.read_csv(\"D:/Drive_A/Flask/Patient Survival Flask/dataset/test_data.csv\").iloc[0].tolist())"
   ]
  },
  {
   "cell_type": "markdown",
   "id": "43c12784",
   "metadata": {},
   "source": [
    "[31.0, 18.1636472, 0.0, 157.4, 0.03125, 45.0, 123.0, 702.01, 0.0, 0.0, 53.0, 2.08, 3.0, 6.0, 0.0, 5.0, 224.0, 95.0, 22.8, 0.0, 40.0, 7.0, 130.0, 36.7, 0.0, 8.4, 72.0, 39.0, 72.0, 39.0, 95.0, 75.0, 78.0, 58.0, 78.0, 58.0, 26.0, 8.0, 100.0, 99.0, 114.0, 87.0, 114.0, 87.0, 36.7, 36.6, 72.0, 70.0, 72.0, 70.0, 95.0, 88.0, 78.0, 76.0, 78.0, 76.0, 16.0, 13.0, 100.0, 100.0, 99.0, 96.0, 99.0, 96.0, 36.6, 36.6, 53.0, 48.0, 8.8, 8.4, 2.08, 1.87, 352.0, 82.0, 18.0, 17.0, 7.9, 7.9, 22.8, 22.8, 318.0, 318.0, 3.9, 3.8, 134.0, 130.0, 8.4, 8.4, 0.02, 0.01, 0.0, 0.0, 1.0, 0.0, 0.0, 0.0, 0.0, 0.0, 0.0, 0.0, 0.0, 1.0, 0.0, 0.0, 1.0, 0.0, 0.0, 1.0, 0.0, 0.0, 0.0, 0.0, 0.0, 0.0, 0.0, 0.0, 0.0, 0.0, 0.0, 1.0, 0.0, 0.0, 0.0, 0.0, 0.0, 0.0, 0.0, 0.0, 0.0]"
   ]
  },
  {
   "cell_type": "code",
   "execution_count": 72,
   "id": "5efed7a8",
   "metadata": {},
   "outputs": [],
   "source": [
    "import requests\n",
    "import json"
   ]
  },
  {
   "cell_type": "code",
   "execution_count": 113,
   "id": "b916e4db",
   "metadata": {},
   "outputs": [],
   "source": [
    "# url = \"http://localhost:5000/api/predict\"\n",
    "url = \"https://patient-survival.herokuapp.com/api/predict\"\n",
    "\n",
    "file = open(r'D:/Drive_A/Flask/Patient Survival Flask/dataset/test_data.csv', 'rb')"
   ]
  },
  {
   "cell_type": "code",
   "execution_count": 114,
   "id": "45840523",
   "metadata": {},
   "outputs": [],
   "source": [
    "test = [31.0, 18.1636472, 0.0, 157.4, 0.03125, 45.0, 123.0, 702.01, 0.0, 0.0, 53.0, 2.08, 3.0, 6.0, 0.0, 5.0, 224.0, 95.0, 22.8, 0.0, 40.0, 7.0, 130.0, 36.7, 0.0, 8.4, 72.0, 39.0, 72.0, 39.0, 95.0, 75.0, 78.0, 58.0, 78.0, 58.0, 26.0, 8.0, 100.0, 99.0, 114.0, 87.0, 114.0, 87.0, 36.7, 36.6, 72.0, 70.0, 72.0, 70.0, 95.0, 88.0, 78.0, 76.0, 78.0, 76.0, 16.0, 13.0, 100.0, 100.0, 99.0, 96.0, 99.0, 96.0, 36.6, 36.6, 53.0, 48.0, 8.8, 8.4, 2.08, 1.87, 352.0, 82.0, 18.0, 17.0, 7.9, 7.9, 22.8, 22.8, 318.0, 318.0, 3.9, 3.8, 134.0, 130.0, 8.4, 8.4, 0.02, 0.01, 0.0, 0.0, 1.0, 0.0, 0.0, 0.0, 0.0, 0.0, 0.0, 0.0, 0.0, 1.0, 0.0, 0.0, 1.0, 0.0, 0.0, 1.0, 0.0, 0.0, 0.0, 0.0, 0.0, 0.0, 0.0, 0.0, 0.0, 0.0, 0.0, 1.0, 0.0, 0.0, 0.0, 0.0, 0.0, 0.0, 0.0, 0.0, 0.0]"
   ]
  },
  {
   "cell_type": "code",
   "execution_count": 116,
   "id": "b664ece1",
   "metadata": {},
   "outputs": [],
   "source": [
    "payload={\"single_input\": json.dumps(test)}\n",
    "# files=[\n",
    "#   ('csv_file',('test_data.csv',file,'text/csv'))\n",
    "# ]\n",
    "headers = {\n",
    "#   'Content-Type': 'multipart/form-data'\n",
    "}\n"
   ]
  },
  {
   "cell_type": "code",
   "execution_count": 127,
   "id": "f3b1fee7",
   "metadata": {},
   "outputs": [
    {
     "name": "stdout",
     "output_type": "stream",
     "text": [
      "{\"pred\":\"0\"}\n",
      "\n"
     ]
    }
   ],
   "source": [
    "response = requests.request(\"POST\", url, data=payload)\n",
    "\n",
    "print(response.text)"
   ]
  },
  {
   "cell_type": "code",
   "execution_count": 128,
   "id": "3ba6121c",
   "metadata": {},
   "outputs": [
    {
     "ename": "ModuleNotFoundError",
     "evalue": "No module named 'Jinja2'",
     "output_type": "error",
     "traceback": [
      "\u001b[1;31m---------------------------------------------------------------------------\u001b[0m",
      "\u001b[1;31mModuleNotFoundError\u001b[0m                       Traceback (most recent call last)",
      "\u001b[1;32m<ipython-input-128-b63b4d2e7faa>\u001b[0m in \u001b[0;36m<module>\u001b[1;34m\u001b[0m\n\u001b[1;32m----> 1\u001b[1;33m \u001b[1;32mimport\u001b[0m \u001b[0mJinja2\u001b[0m\u001b[1;33m\u001b[0m\u001b[1;33m\u001b[0m\u001b[0m\n\u001b[0m",
      "\u001b[1;31mModuleNotFoundError\u001b[0m: No module named 'Jinja2'"
     ]
    }
   ],
   "source": [
    "import Jinja2"
   ]
  },
  {
   "cell_type": "code",
   "execution_count": null,
   "id": "9479488f",
   "metadata": {},
   "outputs": [],
   "source": []
  }
 ],
 "metadata": {
  "kernelspec": {
   "display_name": "Python 3",
   "language": "python",
   "name": "python3"
  },
  "language_info": {
   "codemirror_mode": {
    "name": "ipython",
    "version": 3
   },
   "file_extension": ".py",
   "mimetype": "text/x-python",
   "name": "python",
   "nbconvert_exporter": "python",
   "pygments_lexer": "ipython3",
   "version": "3.7.6"
  }
 },
 "nbformat": 4,
 "nbformat_minor": 5
}
